{
 "cells": [
  {
   "cell_type": "code",
   "execution_count": 2,
   "id": "3c6f73ff-9d66-4ea5-a13b-1349357874bf",
   "metadata": {},
   "outputs": [],
   "source": [
    "list = [\"I am a boy\", \"I am a man\", \"I am a woman\", \"I am a girl\"]"
   ]
  },
  {
   "cell_type": "code",
   "execution_count": 3,
   "id": "9261a484-7889-42a2-8133-b437ce896fc5",
   "metadata": {},
   "outputs": [],
   "source": [
    "sentenceCount = []"
   ]
  },
  {
   "cell_type": "code",
   "execution_count": 4,
   "id": "472446fa-4282-476d-968b-39dd15964b7f",
   "metadata": {},
   "outputs": [],
   "source": [
    "def countWords(list):\n",
    "    for i in list:\n",
    "        words_count=i.count(\" \")\n",
    "        words_count += len(i.split(\" \"))\n",
    "        sentenceCount.append(words_count)\n",
    "    return sentenceCount"
   ]
  },
  {
   "cell_type": "code",
   "execution_count": 5,
   "id": "db2e9637-04c7-4270-9c1b-f2113c66177f",
   "metadata": {},
   "outputs": [
    {
     "name": "stdout",
     "output_type": "stream",
     "text": [
      "[7, 7, 7, 7]\n"
     ]
    }
   ],
   "source": [
    "print(countWords(list))"
   ]
  },
  {
   "cell_type": "code",
   "execution_count": null,
   "id": "82bf6238-8863-462a-872b-e57a6a542518",
   "metadata": {},
   "outputs": [],
   "source": []
  }
 ],
 "metadata": {
  "kernelspec": {
   "display_name": "Python 3 (ipykernel)",
   "language": "python",
   "name": "python3"
  },
  "language_info": {
   "codemirror_mode": {
    "name": "ipython",
    "version": 3
   },
   "file_extension": ".py",
   "mimetype": "text/x-python",
   "name": "python",
   "nbconvert_exporter": "python",
   "pygments_lexer": "ipython3",
   "version": "3.10.5"
  }
 },
 "nbformat": 4,
 "nbformat_minor": 5
}
